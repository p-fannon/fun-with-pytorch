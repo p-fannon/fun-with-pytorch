{
 "cells": [
  {
   "cell_type": "code",
   "execution_count": 1,
   "id": "eeeeb85f-d039-4055-b5c9-44ccb0674b04",
   "metadata": {},
   "outputs": [
    {
     "name": "stdout",
     "output_type": "stream",
     "text": [
      "2.3.0\n"
     ]
    }
   ],
   "source": [
    "import torch\n",
    "\n",
    "print(torch.__version__)"
   ]
  },
  {
   "cell_type": "code",
   "execution_count": 2,
   "id": "0e56f5bc-b0a5-4ae0-a623-6a4745920b32",
   "metadata": {},
   "outputs": [
    {
     "data": {
      "text/plain": [
       "torch.float32"
      ]
     },
     "execution_count": 2,
     "metadata": {},
     "output_type": "execute_result"
    }
   ],
   "source": [
    "torch.get_default_dtype()"
   ]
  },
  {
   "cell_type": "code",
   "execution_count": 4,
   "id": "12e7eb09-60e7-4094-a0b0-fe5561e43166",
   "metadata": {},
   "outputs": [
    {
     "data": {
      "text/plain": [
       "tensor([[1., 2., 3.],\n",
       "        [4., 5., 6.]])"
      ]
     },
     "execution_count": 4,
     "metadata": {},
     "output_type": "execute_result"
    }
   ],
   "source": [
    "tensor_arr = torch.Tensor([[1,2,3],[4,5,6]])\n",
    "tensor_arr"
   ]
  },
  {
   "cell_type": "code",
   "execution_count": 5,
   "id": "ce32cf96-3cad-4e66-ac67-6e0772b63edb",
   "metadata": {},
   "outputs": [
    {
     "data": {
      "text/plain": [
       "True"
      ]
     },
     "execution_count": 5,
     "metadata": {},
     "output_type": "execute_result"
    }
   ],
   "source": [
    "torch.is_tensor(tensor_arr)"
   ]
  },
  {
   "cell_type": "code",
   "execution_count": 6,
   "id": "22678b41-e88c-4b8a-bd97-58ba883408d1",
   "metadata": {},
   "outputs": [
    {
     "data": {
      "text/plain": [
       "6"
      ]
     },
     "execution_count": 6,
     "metadata": {},
     "output_type": "execute_result"
    }
   ],
   "source": [
    "torch.numel(tensor_arr)"
   ]
  },
  {
   "cell_type": "code",
   "execution_count": 7,
   "id": "03f54fca-a504-4009-86e3-453ff4efc32e",
   "metadata": {},
   "outputs": [
    {
     "data": {
      "text/plain": [
       "tensor([[0., 0.],\n",
       "        [0., 0.]])"
      ]
     },
     "execution_count": 7,
     "metadata": {},
     "output_type": "execute_result"
    }
   ],
   "source": [
    "tensor_uninitialized = torch.Tensor(2,2)\n",
    "tensor_uninitialized"
   ]
  },
  {
   "cell_type": "code",
   "execution_count": 8,
   "id": "5a0cc907-3ece-4636-bdf6-34c8e55e94ca",
   "metadata": {},
   "outputs": [
    {
     "data": {
      "text/plain": [
       "tensor([[0.9210, 0.6821],\n",
       "        [0.9684, 0.3679]])"
      ]
     },
     "execution_count": 8,
     "metadata": {},
     "output_type": "execute_result"
    }
   ],
   "source": [
    "tensor_initialized = torch.rand(2,2)\n",
    "tensor_initialized"
   ]
  },
  {
   "cell_type": "code",
   "execution_count": 9,
   "id": "7fd5c30c-b77e-4e61-a9e3-71d2e7ea59e2",
   "metadata": {},
   "outputs": [
    {
     "data": {
      "text/plain": [
       "tensor([5, 3], dtype=torch.int32)"
      ]
     },
     "execution_count": 9,
     "metadata": {},
     "output_type": "execute_result"
    }
   ],
   "source": [
    "tensor_int = torch.tensor([5,3]).type(torch.IntTensor)\n",
    "tensor_int"
   ]
  },
  {
   "cell_type": "code",
   "execution_count": 11,
   "id": "2a43a491-7361-4940-b495-1c4ace41d167",
   "metadata": {},
   "outputs": [
    {
     "data": {
      "text/plain": [
       "tensor([1, 2, 3], dtype=torch.int16)"
      ]
     },
     "execution_count": 11,
     "metadata": {},
     "output_type": "execute_result"
    }
   ],
   "source": [
    "tensor_short = torch.ShortTensor([1.0,2.0,3.0])\n",
    "tensor_short"
   ]
  },
  {
   "cell_type": "code",
   "execution_count": 13,
   "id": "b0fe1597-4d79-41c6-ac4d-99a4e31aae5d",
   "metadata": {},
   "outputs": [
    {
     "data": {
      "text/plain": [
       "tensor([1., 2., 3.], dtype=torch.float16)"
      ]
     },
     "execution_count": 13,
     "metadata": {},
     "output_type": "execute_result"
    }
   ],
   "source": [
    "tensor_float = torch.tensor([1.0,2.0,3.0]).type(torch.half)\n",
    "tensor_float"
   ]
  },
  {
   "cell_type": "code",
   "execution_count": 14,
   "id": "aa988c10-9438-47ab-b480-66baad084b5f",
   "metadata": {},
   "outputs": [
    {
     "data": {
      "text/plain": [
       "tensor([[10, 10, 10, 10, 10, 10],\n",
       "        [10, 10, 10, 10, 10, 10]])"
      ]
     },
     "execution_count": 14,
     "metadata": {},
     "output_type": "execute_result"
    }
   ],
   "source": [
    "tensor_fill = torch.full((2,6), fill_value=10)\n",
    "tensor_fill"
   ]
  },
  {
   "cell_type": "code",
   "execution_count": 15,
   "id": "833cf5dc-33cd-4e00-99c5-e617d21873a1",
   "metadata": {},
   "outputs": [
    {
     "data": {
      "text/plain": [
       "tensor([[1, 1, 1, 1],\n",
       "        [1, 1, 1, 1]], dtype=torch.int32)"
      ]
     },
     "execution_count": 15,
     "metadata": {},
     "output_type": "execute_result"
    }
   ],
   "source": [
    "tensor_of_ones = torch.ones([2,4], dtype=torch.int32)\n",
    "tensor_of_ones"
   ]
  },
  {
   "cell_type": "code",
   "execution_count": 17,
   "id": "eb464156-a1f3-46cd-aaae-ffa10feae82b",
   "metadata": {},
   "outputs": [
    {
     "data": {
      "text/plain": [
       "tensor([[0, 0, 0, 0],\n",
       "        [0, 0, 0, 0]], dtype=torch.int32)"
      ]
     },
     "execution_count": 17,
     "metadata": {},
     "output_type": "execute_result"
    }
   ],
   "source": [
    "tensor_of_zeroes = torch.zeros_like(tensor_of_ones)\n",
    "tensor_of_zeroes"
   ]
  },
  {
   "cell_type": "code",
   "execution_count": 18,
   "id": "1056e0a0-e91f-4d9c-a68f-d221f4268c8a",
   "metadata": {},
   "outputs": [
    {
     "data": {
      "text/plain": [
       "tensor([[1., 0., 0., 0., 0.],\n",
       "        [0., 1., 0., 0., 0.],\n",
       "        [0., 0., 1., 0., 0.],\n",
       "        [0., 0., 0., 1., 0.],\n",
       "        [0., 0., 0., 0., 1.]])"
      ]
     },
     "execution_count": 18,
     "metadata": {},
     "output_type": "execute_result"
    }
   ],
   "source": [
    "tensor_eye = torch.eye(5)\n",
    "tensor_eye"
   ]
  },
  {
   "cell_type": "code",
   "execution_count": 19,
   "id": "471c52b5-e5f6-4535-a0f8-161bbdae8e39",
   "metadata": {},
   "outputs": [
    {
     "data": {
      "text/plain": [
       "tensor([[0, 0],\n",
       "        [1, 1],\n",
       "        [2, 2],\n",
       "        [3, 3],\n",
       "        [4, 4]])"
      ]
     },
     "execution_count": 19,
     "metadata": {},
     "output_type": "execute_result"
    }
   ],
   "source": [
    "non_zero = torch.nonzero(tensor_eye)\n",
    "non_zero"
   ]
  },
  {
   "cell_type": "code",
   "execution_count": 20,
   "id": "9487bb23-f283-4420-8132-5a5dc4f51b7f",
   "metadata": {},
   "outputs": [],
   "source": [
    "i = torch.tensor([[0,1,1],[2,2,0]])"
   ]
  },
  {
   "cell_type": "code",
   "execution_count": 21,
   "id": "4b3004d9-cf61-4619-9953-4732606e8814",
   "metadata": {},
   "outputs": [],
   "source": [
    "v = torch.tensor([3,4,5], dtype=torch.float32)"
   ]
  },
  {
   "cell_type": "code",
   "execution_count": 23,
   "id": "9ef721ca-d52a-49a5-94b3-714cfd2c4e50",
   "metadata": {},
   "outputs": [
    {
     "data": {
      "text/plain": [
       "tensor(indices=tensor([[0, 1, 1],\n",
       "                       [2, 2, 0]]),\n",
       "       values=tensor([3., 4., 5.]),\n",
       "       size=(2, 5), nnz=3, layout=torch.sparse_coo)"
      ]
     },
     "execution_count": 23,
     "metadata": {},
     "output_type": "execute_result"
    }
   ],
   "source": [
    "sparse_tensor = torch.sparse_coo_tensor(i, v, [2,5])\n",
    "sparse_tensor.data"
   ]
  },
  {
   "cell_type": "code",
   "execution_count": 24,
   "id": "350021af-5cea-4584-9f5c-86b702ca1c48",
   "metadata": {},
   "outputs": [
    {
     "data": {
      "text/plain": [
       "tensor([[0.0298, 0.7203],\n",
       "        [0.0580, 0.4224]])"
      ]
     },
     "execution_count": 24,
     "metadata": {},
     "output_type": "execute_result"
    }
   ],
   "source": [
    "initial_tensor = torch.rand(2,2)\n",
    "initial_tensor"
   ]
  },
  {
   "cell_type": "code",
   "execution_count": 25,
   "id": "73a2bea5-66ee-4199-a2c8-c8f3a163d965",
   "metadata": {},
   "outputs": [
    {
     "data": {
      "text/plain": [
       "tensor([[10., 10.],\n",
       "        [10., 10.]])"
      ]
     },
     "execution_count": 25,
     "metadata": {},
     "output_type": "execute_result"
    }
   ],
   "source": [
    "initial_tensor.fill_(10)"
   ]
  },
  {
   "cell_type": "code",
   "execution_count": 26,
   "id": "968fef9c-6adb-4fe4-86ba-f894e3d3206a",
   "metadata": {},
   "outputs": [
    {
     "data": {
      "text/plain": [
       "tensor([[15., 15.],\n",
       "        [15., 15.]])"
      ]
     },
     "execution_count": 26,
     "metadata": {},
     "output_type": "execute_result"
    }
   ],
   "source": [
    "new_tensor = initial_tensor.add(5)\n",
    "new_tensor"
   ]
  },
  {
   "cell_type": "code",
   "execution_count": 27,
   "id": "993ca132-7e70-4c53-a3bc-77884a0cafda",
   "metadata": {},
   "outputs": [
    {
     "data": {
      "text/plain": [
       "tensor([[10., 10.],\n",
       "        [10., 10.]])"
      ]
     },
     "execution_count": 27,
     "metadata": {},
     "output_type": "execute_result"
    }
   ],
   "source": [
    "initial_tensor"
   ]
  },
  {
   "cell_type": "code",
   "execution_count": 28,
   "id": "a4d912b2-d787-404b-a2f9-efb55c1f80dc",
   "metadata": {},
   "outputs": [
    {
     "data": {
      "text/plain": [
       "tensor([[18., 18.],\n",
       "        [18., 18.]])"
      ]
     },
     "execution_count": 28,
     "metadata": {},
     "output_type": "execute_result"
    }
   ],
   "source": [
    "initial_tensor.add_(8)\n",
    "initial_tensor"
   ]
  },
  {
   "cell_type": "code",
   "execution_count": 29,
   "id": "f0259e81-59f7-4a1b-b862-d1a193748445",
   "metadata": {},
   "outputs": [
    {
     "data": {
      "text/plain": [
       "tensor([[3.8730, 3.8730],\n",
       "        [3.8730, 3.8730]])"
      ]
     },
     "execution_count": 29,
     "metadata": {},
     "output_type": "execute_result"
    }
   ],
   "source": [
    "new_tensor.sqrt_()\n",
    "new_tensor"
   ]
  },
  {
   "cell_type": "code",
   "execution_count": 30,
   "id": "a1f95201-6a31-4e2e-a3be-ea2b604806df",
   "metadata": {},
   "outputs": [
    {
     "data": {
      "text/plain": [
       "tensor([ 0.1000,  0.8071,  1.5143,  2.2214,  2.9286,  3.6357,  4.3429,  5.0500,\n",
       "         5.7571,  6.4643,  7.1714,  7.8786,  8.5857,  9.2929, 10.0000])"
      ]
     },
     "execution_count": 30,
     "metadata": {},
     "output_type": "execute_result"
    }
   ],
   "source": [
    "x = torch.linspace(start=0.1, end=10.0, steps=15)\n",
    "x"
   ]
  },
  {
   "cell_type": "code",
   "execution_count": 31,
   "id": "eebebcbd-d483-4722-bf75-e4b62ec38df8",
   "metadata": {},
   "outputs": [
    {
     "data": {
      "text/plain": [
       "(tensor([0.1000, 0.8071, 1.5143, 2.2214, 2.9286]),\n",
       " tensor([3.6357, 4.3429, 5.0500, 5.7571, 6.4643]),\n",
       " tensor([ 7.1714,  7.8786,  8.5857,  9.2929, 10.0000]))"
      ]
     },
     "execution_count": 31,
     "metadata": {},
     "output_type": "execute_result"
    }
   ],
   "source": [
    "tensor_chunk = torch.chunk(x, 3, 0)\n",
    "tensor_chunk"
   ]
  },
  {
   "cell_type": "code",
   "execution_count": 32,
   "id": "026ddd57-3f11-4e00-a15f-15d066394199",
   "metadata": {},
   "outputs": [
    {
     "data": {
      "text/plain": [
       "tensor([0.1000, 0.8071, 1.5143, 2.2214, 2.9286, 3.6357, 4.3429, 5.0500, 5.7571,\n",
       "        6.4643, 3.0000, 4.0000, 5.0000])"
      ]
     },
     "execution_count": 32,
     "metadata": {},
     "output_type": "execute_result"
    }
   ],
   "source": [
    "tensor1 = tensor_chunk[0]\n",
    "tensor2 = tensor_chunk[1]\n",
    "tensor3 = torch.tensor([3.0,4.0,5.0])\n",
    "\n",
    "torch.cat((tensor1, tensor2, tensor3), 0)"
   ]
  },
  {
   "cell_type": "code",
   "execution_count": 33,
   "id": "97e45faa-5fc2-4b97-9762-666a331cb114",
   "metadata": {},
   "outputs": [
    {
     "data": {
      "text/plain": [
       "tensor([[0.5202, 0.8264, 0.0343],\n",
       "        [0.3839, 0.7451, 0.1174],\n",
       "        [0.0993, 0.7294, 0.8890]])"
      ]
     },
     "execution_count": 33,
     "metadata": {},
     "output_type": "execute_result"
    }
   ],
   "source": [
    "tensor_random = torch.rand(3,3)\n",
    "tensor_random"
   ]
  },
  {
   "cell_type": "code",
   "execution_count": 35,
   "id": "3a5b38e3-5b7c-415e-bd58-c3cc8ae3f317",
   "metadata": {},
   "outputs": [
    {
     "data": {
      "text/plain": [
       "tensor(0.8264)"
      ]
     },
     "execution_count": 35,
     "metadata": {},
     "output_type": "execute_result"
    }
   ],
   "source": [
    "tensor_random[0, 1]"
   ]
  },
  {
   "cell_type": "code",
   "execution_count": 36,
   "id": "aa412a5c-5616-4422-b375-aeff44f24f66",
   "metadata": {},
   "outputs": [
    {
     "data": {
      "text/plain": [
       "tensor([[0.7451, 0.1174],\n",
       "        [0.7294, 0.8890]])"
      ]
     },
     "execution_count": 36,
     "metadata": {},
     "output_type": "execute_result"
    }
   ],
   "source": [
    "tensor_random[1:, 1:]"
   ]
  },
  {
   "cell_type": "code",
   "execution_count": 37,
   "id": "ef570c0a-eb85-482f-93fb-9f0b95eabf67",
   "metadata": {},
   "outputs": [
    {
     "data": {
      "text/plain": [
       "torch.Size([3, 3])"
      ]
     },
     "execution_count": 37,
     "metadata": {},
     "output_type": "execute_result"
    }
   ],
   "source": [
    "tensor_random.size()"
   ]
  },
  {
   "cell_type": "code",
   "execution_count": 38,
   "id": "ddf74783-44b9-4ebc-acf7-68dfc0562382",
   "metadata": {},
   "outputs": [
    {
     "data": {
      "text/plain": [
       "tensor([0.5202, 0.8264, 0.0343, 0.3839, 0.7451, 0.1174, 0.0993, 0.7294, 0.8890])"
      ]
     },
     "execution_count": 38,
     "metadata": {},
     "output_type": "execute_result"
    }
   ],
   "source": [
    "tensor_resized = tensor_random.view(9)\n",
    "tensor_resized"
   ]
  },
  {
   "cell_type": "code",
   "execution_count": 39,
   "id": "21df20e2-28c1-4b62-afc1-28397222d514",
   "metadata": {},
   "outputs": [
    {
     "data": {
      "text/plain": [
       "torch.Size([9])"
      ]
     },
     "execution_count": 39,
     "metadata": {},
     "output_type": "execute_result"
    }
   ],
   "source": [
    "tensor_resized.size()"
   ]
  },
  {
   "cell_type": "code",
   "execution_count": 42,
   "id": "871b089e-c4f2-4961-b620-2593859a04e3",
   "metadata": {},
   "outputs": [
    {
     "data": {
      "text/plain": [
       "tensor([5.2016e-01, 8.2636e-01, 3.4251e-02, 3.8395e-01, 7.4506e-01, 1.1745e-01,\n",
       "        9.9323e-02, 7.2938e-01, 1.0000e+02])"
      ]
     },
     "execution_count": 42,
     "metadata": {},
     "output_type": "execute_result"
    }
   ],
   "source": [
    "tensor_random[2,2] = 100.0\n",
    "tensor_resized"
   ]
  },
  {
   "cell_type": "code",
   "execution_count": 43,
   "id": "c85bca9d-4eb2-4203-a3ac-ded122ac75b9",
   "metadata": {},
   "outputs": [
    {
     "data": {
      "text/plain": [
       "tensor([[5.2016e-01, 8.2636e-01, 3.4251e-02],\n",
       "        [3.8395e-01, 7.4506e-01, 1.1745e-01],\n",
       "        [9.9323e-02, 7.2938e-01, 1.0000e+02]])"
      ]
     },
     "execution_count": 43,
     "metadata": {},
     "output_type": "execute_result"
    }
   ],
   "source": [
    "tensor_random"
   ]
  },
  {
   "cell_type": "code",
   "execution_count": 44,
   "id": "fd9f8bca-fd75-4cce-99bc-a1e7a158b76a",
   "metadata": {},
   "outputs": [
    {
     "data": {
      "text/plain": [
       "torch.Size([3, 3])"
      ]
     },
     "execution_count": 44,
     "metadata": {},
     "output_type": "execute_result"
    }
   ],
   "source": [
    "tensor_random.shape"
   ]
  },
  {
   "cell_type": "code",
   "execution_count": 45,
   "id": "8d14a3d9-b730-4e3c-b50d-1954a7105298",
   "metadata": {},
   "outputs": [
    {
     "data": {
      "text/plain": [
       "tensor([[[5.2016e-01],\n",
       "         [8.2636e-01],\n",
       "         [3.4251e-02]],\n",
       "\n",
       "        [[3.8395e-01],\n",
       "         [7.4506e-01],\n",
       "         [1.1745e-01]],\n",
       "\n",
       "        [[9.9323e-02],\n",
       "         [7.2938e-01],\n",
       "         [1.0000e+02]]])"
      ]
     },
     "execution_count": 45,
     "metadata": {},
     "output_type": "execute_result"
    }
   ],
   "source": [
    "tensor_unsqueeze = torch.unsqueeze(tensor_random, 2)\n",
    "tensor_unsqueeze"
   ]
  },
  {
   "cell_type": "code",
   "execution_count": 46,
   "id": "2c47c757-7fbd-45cc-81d3-b7ae0a03384f",
   "metadata": {},
   "outputs": [
    {
     "data": {
      "text/plain": [
       "torch.Size([3, 3, 1])"
      ]
     },
     "execution_count": 46,
     "metadata": {},
     "output_type": "execute_result"
    }
   ],
   "source": [
    "tensor_unsqueeze.shape"
   ]
  },
  {
   "cell_type": "code",
   "execution_count": 49,
   "id": "ad244c48-2c45-49fc-99c2-07a219a383ff",
   "metadata": {},
   "outputs": [
    {
     "data": {
      "text/plain": [
       "tensor([[1., 2., 3.],\n",
       "        [4., 5., 6.]])"
      ]
     },
     "execution_count": 49,
     "metadata": {},
     "output_type": "execute_result"
    }
   ],
   "source": [
    "tensor_arr"
   ]
  },
  {
   "cell_type": "code",
   "execution_count": 50,
   "id": "ef418f8f-d5fa-4bcc-bd40-5e3fc05f0969",
   "metadata": {},
   "outputs": [
    {
     "data": {
      "text/plain": [
       "tensor([[1., 4.],\n",
       "        [2., 5.],\n",
       "        [3., 6.]])"
      ]
     },
     "execution_count": 50,
     "metadata": {},
     "output_type": "execute_result"
    }
   ],
   "source": [
    "tensor_transpose = torch.transpose(tensor_arr, 0, 1)\n",
    "tensor_transpose"
   ]
  },
  {
   "cell_type": "code",
   "execution_count": 51,
   "id": "69c4f06d-9ee5-4894-84a5-ee28d0f69eb7",
   "metadata": {},
   "outputs": [
    {
     "data": {
      "text/plain": [
       "tensor([[5.2016e-01, 8.2636e-01, 3.4251e-02],\n",
       "        [3.8395e-01, 7.4506e-01, 1.1745e-01],\n",
       "        [9.9323e-02, 7.2938e-01, 1.0000e+02]])"
      ]
     },
     "execution_count": 51,
     "metadata": {},
     "output_type": "execute_result"
    }
   ],
   "source": [
    "tensor_random"
   ]
  },
  {
   "cell_type": "code",
   "execution_count": 52,
   "id": "e9fe5818-18c1-449c-ac95-7facc9186a8c",
   "metadata": {},
   "outputs": [],
   "source": [
    "sorted_tensor, sorted_indices = torch.sort(tensor_random)"
   ]
  },
  {
   "cell_type": "code",
   "execution_count": 53,
   "id": "b8bf7bc9-9967-4513-aded-d7f8424fb901",
   "metadata": {},
   "outputs": [
    {
     "data": {
      "text/plain": [
       "tensor([[3.4251e-02, 5.2016e-01, 8.2636e-01],\n",
       "        [1.1745e-01, 3.8395e-01, 7.4506e-01],\n",
       "        [9.9323e-02, 7.2938e-01, 1.0000e+02]])"
      ]
     },
     "execution_count": 53,
     "metadata": {},
     "output_type": "execute_result"
    }
   ],
   "source": [
    "sorted_tensor"
   ]
  },
  {
   "cell_type": "code",
   "execution_count": 54,
   "id": "088460fc-fd75-4625-942a-3c0a866f9133",
   "metadata": {},
   "outputs": [
    {
     "data": {
      "text/plain": [
       "tensor([[2, 0, 1],\n",
       "        [2, 0, 1],\n",
       "        [0, 1, 2]])"
      ]
     },
     "execution_count": 54,
     "metadata": {},
     "output_type": "execute_result"
    }
   ],
   "source": [
    "sorted_indices"
   ]
  },
  {
   "cell_type": "code",
   "execution_count": 55,
   "id": "7232c665-ca28-4e0c-a442-64e549f06634",
   "metadata": {},
   "outputs": [
    {
     "data": {
      "text/plain": [
       "tensor([-1.1000, -2.2000, -3.3000])"
      ]
     },
     "execution_count": 55,
     "metadata": {},
     "output_type": "execute_result"
    }
   ],
   "source": [
    "tensor_float = torch.FloatTensor([-1.1, -2.2, -3.3])\n",
    "tensor_float"
   ]
  },
  {
   "cell_type": "code",
   "execution_count": 56,
   "id": "f71be932-1ba4-45c3-bc32-9b74350acc17",
   "metadata": {},
   "outputs": [
    {
     "data": {
      "text/plain": [
       "tensor([1.1000, 2.2000, 3.3000])"
      ]
     },
     "execution_count": 56,
     "metadata": {},
     "output_type": "execute_result"
    }
   ],
   "source": [
    "tensor_abs = torch.abs(tensor_float)\n",
    "tensor_abs"
   ]
  },
  {
   "cell_type": "code",
   "execution_count": null,
   "id": "5865e418-ca9b-4720-ba24-853d36c8a189",
   "metadata": {},
   "outputs": [],
   "source": []
  }
 ],
 "metadata": {
  "kernelspec": {
   "display_name": "Python 3 (ipykernel)",
   "language": "python",
   "name": "python3"
  },
  "language_info": {
   "codemirror_mode": {
    "name": "ipython",
    "version": 3
   },
   "file_extension": ".py",
   "mimetype": "text/x-python",
   "name": "python",
   "nbconvert_exporter": "python",
   "pygments_lexer": "ipython3",
   "version": "3.11.6"
  }
 },
 "nbformat": 4,
 "nbformat_minor": 5
}
