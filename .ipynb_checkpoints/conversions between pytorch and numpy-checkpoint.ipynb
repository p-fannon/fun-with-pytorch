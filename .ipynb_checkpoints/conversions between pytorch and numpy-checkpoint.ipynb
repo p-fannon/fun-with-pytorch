{
 "cells": [
  {
   "cell_type": "code",
   "execution_count": 1,
   "id": "d3550737-c47a-4e37-b325-3804bf8d600a",
   "metadata": {},
   "outputs": [],
   "source": [
    "import numpy as np\n",
    "import torch"
   ]
  },
  {
   "cell_type": "code",
   "execution_count": 2,
   "id": "433a9819-e000-4fcd-8458-c590b9462095",
   "metadata": {},
   "outputs": [
    {
     "data": {
      "text/plain": [
       "tensor([[0.3222, 0.5244, 0.1283],\n",
       "        [0.3771, 0.1207, 0.2378],\n",
       "        [0.2473, 0.3034, 0.5422],\n",
       "        [0.4163, 0.2912, 0.8560]])"
      ]
     },
     "execution_count": 2,
     "metadata": {},
     "output_type": "execute_result"
    }
   ],
   "source": [
    "tensor = torch.rand(4,3)\n",
    "tensor"
   ]
  },
  {
   "cell_type": "code",
   "execution_count": 3,
   "id": "0d614b5a-7532-4c03-b4a8-28796f59ac84",
   "metadata": {},
   "outputs": [
    {
     "data": {
      "text/plain": [
       "torch.Tensor"
      ]
     },
     "execution_count": 3,
     "metadata": {},
     "output_type": "execute_result"
    }
   ],
   "source": [
    "type(tensor)"
   ]
  },
  {
   "cell_type": "code",
   "execution_count": 4,
   "id": "cfca6897-ffc7-44c1-b1b1-89c193fe13c9",
   "metadata": {},
   "outputs": [
    {
     "data": {
      "text/plain": [
       "array([[0.32218456, 0.5243621 , 0.12834752],\n",
       "       [0.3770942 , 0.12065512, 0.23778003],\n",
       "       [0.24726671, 0.30340338, 0.5422006 ],\n",
       "       [0.41628194, 0.29121125, 0.85599154]], dtype=float32)"
      ]
     },
     "execution_count": 4,
     "metadata": {},
     "output_type": "execute_result"
    }
   ],
   "source": [
    "numpy_from_tensor = tensor.numpy()\n",
    "numpy_from_tensor"
   ]
  },
  {
   "cell_type": "code",
   "execution_count": 5,
   "id": "e59a4231-4df7-4db6-9fdd-188134714b87",
   "metadata": {},
   "outputs": [
    {
     "data": {
      "text/plain": [
       "numpy.ndarray"
      ]
     },
     "execution_count": 5,
     "metadata": {},
     "output_type": "execute_result"
    }
   ],
   "source": [
    "type(numpy_from_tensor)"
   ]
  },
  {
   "cell_type": "code",
   "execution_count": 6,
   "id": "73ce2b8c-0115-412d-a68b-773087d1bfbd",
   "metadata": {},
   "outputs": [
    {
     "data": {
      "text/plain": [
       "True"
      ]
     },
     "execution_count": 6,
     "metadata": {},
     "output_type": "execute_result"
    }
   ],
   "source": [
    "torch.is_tensor(tensor)"
   ]
  },
  {
   "cell_type": "code",
   "execution_count": 7,
   "id": "b965fff1-7022-464b-a429-7c534574d848",
   "metadata": {},
   "outputs": [
    {
     "data": {
      "text/plain": [
       "False"
      ]
     },
     "execution_count": 7,
     "metadata": {},
     "output_type": "execute_result"
    }
   ],
   "source": [
    "torch.is_tensor(numpy_from_tensor)"
   ]
  },
  {
   "cell_type": "code",
   "execution_count": 9,
   "id": "98fe67c9-3e4e-45cb-a2a3-d98ee1a278a9",
   "metadata": {},
   "outputs": [
    {
     "data": {
      "text/plain": [
       "array([[  1.,   2.,   3.],\n",
       "       [ 10.,  20.,  30.],\n",
       "       [100., 200., 300.]])"
      ]
     },
     "execution_count": 9,
     "metadata": {},
     "output_type": "execute_result"
    }
   ],
   "source": [
    "numpy_arr = np.array([[1.0,2.0,3.0],[10.0,20.0,30.0],[100.0,200.0,300.0]])\n",
    "numpy_arr"
   ]
  },
  {
   "cell_type": "code",
   "execution_count": 10,
   "id": "026df61c-ca35-4870-b6aa-976caeec11cf",
   "metadata": {},
   "outputs": [
    {
     "data": {
      "text/plain": [
       "tensor([[  1.,   2.,   3.],\n",
       "        [ 10.,  20.,  30.],\n",
       "        [100., 200., 300.]], dtype=torch.float64)"
      ]
     },
     "execution_count": 10,
     "metadata": {},
     "output_type": "execute_result"
    }
   ],
   "source": [
    "tensor_from_numpy = torch.from_numpy(numpy_arr)\n",
    "tensor_from_numpy"
   ]
  },
  {
   "cell_type": "code",
   "execution_count": 11,
   "id": "f9e4be28-dc06-418f-ab25-4979a5a8331b",
   "metadata": {},
   "outputs": [
    {
     "data": {
      "text/plain": [
       "True"
      ]
     },
     "execution_count": 11,
     "metadata": {},
     "output_type": "execute_result"
    }
   ],
   "source": [
    "torch.is_tensor(tensor_from_numpy)"
   ]
  },
  {
   "cell_type": "code",
   "execution_count": null,
   "id": "cb401c4e-32d0-40cc-84e5-4af997f5f360",
   "metadata": {},
   "outputs": [],
   "source": []
  }
 ],
 "metadata": {
  "kernelspec": {
   "display_name": "Python 3 (ipykernel)",
   "language": "python",
   "name": "python3"
  },
  "language_info": {
   "codemirror_mode": {
    "name": "ipython",
    "version": 3
   },
   "file_extension": ".py",
   "mimetype": "text/x-python",
   "name": "python",
   "nbconvert_exporter": "python",
   "pygments_lexer": "ipython3",
   "version": "3.11.6"
  }
 },
 "nbformat": 4,
 "nbformat_minor": 5
}
