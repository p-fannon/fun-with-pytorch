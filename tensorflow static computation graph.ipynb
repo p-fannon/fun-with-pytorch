{
 "cells": [
  {
   "cell_type": "code",
   "execution_count": 4,
   "id": "8a716c76-eae0-4de7-a43b-f5beecf8ec32",
   "metadata": {},
   "outputs": [
    {
     "name": "stdout",
     "output_type": "stream",
     "text": [
      "WARNING:tensorflow:From /Users/fannonp/Library/Python/3.11/lib/python/site-packages/tensorflow/python/compat/v2_compat.py:98: disable_resource_variables (from tensorflow.python.ops.resource_variables_toggle) is deprecated and will be removed in a future version.\n",
      "Instructions for updating:\n",
      "non-resource variables are not supported in the long term\n"
     ]
    }
   ],
   "source": [
    "import tensorflow.compat.v1 as tf\n",
    "tf.disable_v2_behavior()"
   ]
  },
  {
   "cell_type": "code",
   "execution_count": 5,
   "id": "3f7e1b0a-bc2c-442d-af01-5ccc157c1e79",
   "metadata": {},
   "outputs": [],
   "source": [
    "W = tf.Variable(6, name = 'var_W')\n",
    "\n",
    "x = tf.compat.v1.placeholder(tf.int32, shape = [3], name = 'x')\n",
    "\n",
    "b = tf.constant(3, name = 'constant_b')"
   ]
  },
  {
   "cell_type": "code",
   "execution_count": null,
   "id": "4d66ec4f-429d-4bcf-ac18-c252a67f4d61",
   "metadata": {},
   "outputs": [],
   "source": []
  }
 ],
 "metadata": {
  "kernelspec": {
   "display_name": "Python 3 (ipykernel)",
   "language": "python",
   "name": "python3"
  },
  "language_info": {
   "codemirror_mode": {
    "name": "ipython",
    "version": 3
   },
   "file_extension": ".py",
   "mimetype": "text/x-python",
   "name": "python",
   "nbconvert_exporter": "python",
   "pygments_lexer": "ipython3",
   "version": "3.11.6"
  }
 },
 "nbformat": 4,
 "nbformat_minor": 5
}
